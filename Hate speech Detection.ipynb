{
 "cells": [
  {
   "cell_type": "markdown",
   "id": "534916ed-a24f-43d5-af71-9b2b85730f79",
   "metadata": {},
   "source": [
    "# Import Data "
   ]
  },
  {
   "cell_type": "code",
   "execution_count": 31,
   "id": "f537dd0b-7f0a-4442-9be3-2ef2b73a9ef8",
   "metadata": {},
   "outputs": [],
   "source": [
    "import pandas as pd "
   ]
  },
  {
   "cell_type": "code",
   "execution_count": 32,
   "id": "7dfd3bbc-e9c0-4459-8b56-7fb6d866a19d",
   "metadata": {},
   "outputs": [
    {
     "name": "stdout",
     "output_type": "stream",
     "text": [
      "training set : (31962, 3) 31962\n"
     ]
    }
   ],
   "source": [
    "train= pd.read_csv('train.csv')\n",
    "print(\"training set :\"% train.columns, train.shape , len(train))"
   ]
  },
  {
   "cell_type": "code",
   "execution_count": 33,
   "id": "41fb06d2-24d6-476b-8500-42240204c075",
   "metadata": {},
   "outputs": [
    {
     "name": "stdout",
     "output_type": "stream",
     "text": [
      "test set: (17197, 2) 17197\n"
     ]
    }
   ],
   "source": [
    "test=pd.read_csv('test.csv')\n",
    "print(\"test set:\"% test.columns , test.shape, len(test))"
   ]
  },
  {
   "cell_type": "markdown",
   "id": "249069bb-68cb-49af-9f6f-f30f08fdf629",
   "metadata": {},
   "source": [
    "# Data Cleaning"
   ]
  },
  {
   "cell_type": "code",
   "execution_count": 35,
   "id": "44fd1807-001f-4813-994d-ec6521dc522c",
   "metadata": {},
   "outputs": [],
   "source": [
    "import re \n",
    "def clean_text(df, text_field):\n",
    "    df[text_field]=df[text_field].str.lower()\n",
    "    df[text_field]=df[text_field].apply(lambda elem: re.sub(r\"(@[A-Za-z0-9]+)|([^0-9A-Za-z \\t])|(\\w+:\\/\\/\\S+)|^rt|http.+?\", \"\", elem) )\n",
    "    return df\n",
    "test_clean = clean_text(test, \"tweet\")\n",
    "train_clean = clean_text(train, \"tweet\")"
   ]
  },
  {
   "cell_type": "code",
   "execution_count": 37,
   "id": "e111074a-fe59-459b-ac1f-8356a132f08a",
   "metadata": {},
   "outputs": [
    {
     "name": "stdout",
     "output_type": "stream",
     "text": [
      "          id  label                                              tweet\n",
      "0          1      0    when a father is dysfunctional and is so sel...\n",
      "1          2      0    thanks for lyft credit i cant use cause they...\n",
      "2          3      0                                bihday your majesty\n",
      "3          4      0  model   i love u take with u all the time in u...\n",
      "4          5      0               factsguide society now    motivation\n",
      "...      ...    ...                                                ...\n",
      "31957  31958      0                               ate  isz that youuu \n",
      "31958  31959      0    to see nina turner on the airwaves trying to...\n",
      "31959  31960      0  listening to sad songs on a monday morning otw...\n",
      "31960  31961      1   sikh temple vandalised in in calgary wso cond...\n",
      "31961  31962      0                        thank you  for you follow  \n",
      "\n",
      "[31962 rows x 3 columns]\n"
     ]
    }
   ],
   "source": [
    "print(train_clean)"
   ]
  },
  {
   "cell_type": "markdown",
   "id": "8548ff7f-631e-484b-88a4-0c7fe02c5ccc",
   "metadata": {
    "tags": []
   },
   "source": [
    "# Handling imbalanced data for hate speech detection model"
   ]
  },
  {
   "cell_type": "code",
   "execution_count": 38,
   "id": "8c68fe8d-2690-42c0-8b1c-fc48000f7102",
   "metadata": {},
   "outputs": [
    {
     "data": {
      "text/plain": [
       "1    29720\n",
       "0    29720\n",
       "Name: label, dtype: int64"
      ]
     },
     "execution_count": 38,
     "metadata": {},
     "output_type": "execute_result"
    }
   ],
   "source": [
    "from sklearn.utils import resample\n",
    "train_majority=train_clean[train_clean.label==0]\n",
    "train_minority=train_clean[train_clean.label==1]\n",
    "train_minority_unsampled= resample(train_minority,\n",
    "                                   replace= True,\n",
    "                                   n_samples=len(train_majority),\n",
    "                                   random_state=123)\n",
    "train_unsampled= pd.concat([train_minority_unsampled,train_majority])\n",
    "train_unsampled['label'].value_counts()\n",
    "\n"
   ]
  },
  {
   "cell_type": "markdown",
   "id": "c7df110a-29ce-4959-84ae-9ec3190e3e50",
   "metadata": {},
   "source": [
    "# Creating a pipeline"
   ]
  },
  {
   "cell_type": "code",
   "execution_count": 39,
   "id": "26a61892-34c2-42dd-830c-eeb76332c0ef",
   "metadata": {},
   "outputs": [],
   "source": [
    "from sklearn.feature_extraction.text import TfidfVectorizer\n",
    "from sklearn.pipeline import Pipeline\n",
    "from sklearn.feature_extraction.text import CountVectorizer\n",
    "from sklearn.feature_extraction.text import TfidfTransformer\n",
    "from sklearn.linear_model import SGDClassifier\n",
    "pipline_sgd= Pipeline([ ('vect', CountVectorizer()),\n",
    "                        ('tfidf', TfidfTransformer()),\n",
    "                        ('nb', SGDClassifier())])"
   ]
  },
  {
   "cell_type": "markdown",
   "id": "8094da96-6237-49a1-a277-7e7fb9fbd917",
   "metadata": {
    "tags": []
   },
   "source": [
    "# Training the Hate speech Detection"
   ]
  },
  {
   "cell_type": "code",
   "execution_count": 41,
   "id": "6e0e9ca8-c630-4ffb-a6c7-6d5171808890",
   "metadata": {},
   "outputs": [],
   "source": [
    "from sklearn.model_selection import train_test_split \n",
    "X_train, X_test, y_train, y_test= train_test_split(train_unsampled['tweet'],\n",
    "                                                  train_unsampled['label'],random_state=0)"
   ]
  },
  {
   "cell_type": "markdown",
   "id": "abdaf707-4090-491b-ad63-d1a66bd67e86",
   "metadata": {},
   "source": [
    "#  Predict the result "
   ]
  },
  {
   "cell_type": "code",
   "execution_count": 44,
   "id": "4d6eacff-415e-4b43-bb8d-88265e332119",
   "metadata": {},
   "outputs": [
    {
     "data": {
      "text/plain": [
       "0.9694061187762448"
      ]
     },
     "execution_count": 44,
     "metadata": {},
     "output_type": "execute_result"
    }
   ],
   "source": [
    "model = pipline_sgd.fit(X_train, y_train)\n",
    "y_predict= model.predict(X_test)\n",
    "from sklearn.metrics import f1_score\n",
    "f1_score(y_test, y_predict)\n"
   ]
  },
  {
   "cell_type": "code",
   "execution_count": null,
   "id": "c57e268d-9c55-41ce-a4d7-559874ffcf55",
   "metadata": {},
   "outputs": [],
   "source": []
  }
 ],
 "metadata": {
  "kernelspec": {
   "display_name": "Python 3 (ipykernel)",
   "language": "python",
   "name": "python3"
  },
  "language_info": {
   "codemirror_mode": {
    "name": "ipython",
    "version": 3
   },
   "file_extension": ".py",
   "mimetype": "text/x-python",
   "name": "python",
   "nbconvert_exporter": "python",
   "pygments_lexer": "ipython3",
   "version": "3.8.13"
  }
 },
 "nbformat": 4,
 "nbformat_minor": 5
}
